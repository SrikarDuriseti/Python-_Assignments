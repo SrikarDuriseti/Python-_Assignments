{
 "cells": [
  {
   "cell_type": "markdown",
   "id": "d2ec4b30",
   "metadata": {},
   "source": [
    "# 1.\n",
    "\n",
    "[  ] is square bracket and is indicated as 'list' in python programming language . "
   ]
  },
  {
   "cell_type": "code",
   "execution_count": 4,
   "id": "4b6ac2e8",
   "metadata": {},
   "outputs": [
    {
     "data": {
      "text/plain": [
       "list"
      ]
     },
     "execution_count": 4,
     "metadata": {},
     "output_type": "execute_result"
    }
   ],
   "source": [
    "a=[]              \n",
    "type(a)"
   ]
  },
  {
   "cell_type": "markdown",
   "id": "e40840ee",
   "metadata": {},
   "source": [
    "# 2."
   ]
  },
  {
   "cell_type": "code",
   "execution_count": 12,
   "id": "0a2b2514",
   "metadata": {},
   "outputs": [
    {
     "name": "stdout",
     "output_type": "stream",
     "text": [
      "[2, 4, 'hello', 6, 8, 10, ['a', 'b', 'c', 'd']]\n"
     ]
    }
   ],
   "source": [
    "spam=[2,4,6,8,10,['a','b','c','d']]\n",
    "\n",
    "spam.insert(2,'hello')\n",
    "\n",
    "print(spam)"
   ]
  },
  {
   "cell_type": "markdown",
   "id": "4c0d1003",
   "metadata": {},
   "source": [
    "# 3."
   ]
  },
  {
   "cell_type": "code",
   "execution_count": 13,
   "id": "cc1c2b0a",
   "metadata": {},
   "outputs": [
    {
     "data": {
      "text/plain": [
       "6"
      ]
     },
     "execution_count": 13,
     "metadata": {},
     "output_type": "execute_result"
    }
   ],
   "source": [
    "spam[int(int('3' * 2) / 11)]"
   ]
  },
  {
   "cell_type": "markdown",
   "id": "a0f4d52e",
   "metadata": {},
   "source": [
    "# 4."
   ]
  },
  {
   "cell_type": "code",
   "execution_count": 18,
   "id": "d039ecb2",
   "metadata": {},
   "outputs": [
    {
     "data": {
      "text/plain": [
       "['a', 'b', 'c', 'd']"
      ]
     },
     "execution_count": 18,
     "metadata": {},
     "output_type": "execute_result"
    }
   ],
   "source": [
    "spam[-1]"
   ]
  },
  {
   "cell_type": "markdown",
   "id": "632ca010",
   "metadata": {},
   "source": [
    "# 5."
   ]
  },
  {
   "cell_type": "code",
   "execution_count": 19,
   "id": "96fc0e50",
   "metadata": {},
   "outputs": [
    {
     "data": {
      "text/plain": [
       "[2, 4]"
      ]
     },
     "execution_count": 19,
     "metadata": {},
     "output_type": "execute_result"
    }
   ],
   "source": [
    "spam[0:2]"
   ]
  },
  {
   "cell_type": "markdown",
   "id": "578389e3",
   "metadata": {},
   "source": [
    "# 6."
   ]
  },
  {
   "cell_type": "code",
   "execution_count": 83,
   "id": "da1ad8e4",
   "metadata": {},
   "outputs": [
    {
     "data": {
      "text/plain": [
       "1"
      ]
     },
     "execution_count": 83,
     "metadata": {},
     "output_type": "execute_result"
    }
   ],
   "source": [
    "bacon=[3.14,'cat',11,'cat',True]\n",
    "bacon.index('cat')  #index function renders the first occuring value's index"
   ]
  },
  {
   "cell_type": "markdown",
   "id": "2f9002dd",
   "metadata": {},
   "source": [
    "# 7."
   ]
  },
  {
   "cell_type": "code",
   "execution_count": 84,
   "id": "4d33d670",
   "metadata": {},
   "outputs": [
    {
     "name": "stdout",
     "output_type": "stream",
     "text": [
      "[3.14, 'cat', 11, 'cat', True, 99]\n"
     ]
    }
   ],
   "source": [
    "bacon.append(99)\n",
    "print(bacon)     # append keyword adds the value at the end of the list"
   ]
  },
  {
   "cell_type": "markdown",
   "id": "6683eb1d",
   "metadata": {},
   "source": [
    "# 8."
   ]
  },
  {
   "cell_type": "code",
   "execution_count": 85,
   "id": "3b086143",
   "metadata": {},
   "outputs": [
    {
     "name": "stdout",
     "output_type": "stream",
     "text": [
      "[3.14, 11, 'cat', True, 99]\n"
     ]
    }
   ],
   "source": [
    "bacon.remove('cat')\n",
    "print(bacon)  #remove function removes the first occuring value"
   ]
  },
  {
   "cell_type": "markdown",
   "id": "1504e722",
   "metadata": {},
   "source": [
    "# 9."
   ]
  },
  {
   "cell_type": "code",
   "execution_count": 86,
   "id": "e4088f53",
   "metadata": {},
   "outputs": [
    {
     "data": {
      "text/plain": [
       "[3.14,\n",
       " 11,\n",
       " 'cat',\n",
       " True,\n",
       " 99,\n",
       " 3.14,\n",
       " 11,\n",
       " 'cat',\n",
       " True,\n",
       " 99,\n",
       " 3.14,\n",
       " 11,\n",
       " 'cat',\n",
       " True,\n",
       " 99]"
      ]
     },
     "execution_count": 86,
     "metadata": {},
     "output_type": "execute_result"
    }
   ],
   "source": [
    "bacon*3 # * list replication operator gives the copy of the list"
   ]
  },
  {
   "cell_type": "code",
   "execution_count": 87,
   "id": "ce3a7542",
   "metadata": {},
   "outputs": [],
   "source": [
    "bacon_1=[4,2,3,5,'srikar']"
   ]
  },
  {
   "cell_type": "code",
   "execution_count": 88,
   "id": "30ed051d",
   "metadata": {},
   "outputs": [
    {
     "data": {
      "text/plain": [
       "[3.14, 11, 'cat', True, 99, 4, 2, 3, 5, 'srikar']"
      ]
     },
     "execution_count": 88,
     "metadata": {},
     "output_type": "execute_result"
    }
   ],
   "source": [
    "bacon+bacon_1 # + is used to concatenate lists"
   ]
  },
  {
   "cell_type": "markdown",
   "id": "527a678d",
   "metadata": {},
   "source": [
    "# 10."
   ]
  },
  {
   "cell_type": "code",
   "execution_count": 89,
   "id": "06b6e616",
   "metadata": {},
   "outputs": [
    {
     "name": "stdout",
     "output_type": "stream",
     "text": [
      "[3.14, 11, 'cat', True, 99, 'hello friends']\n"
     ]
    }
   ],
   "source": [
    "bacon.append('hello friends')\n",
    "print(bacon)                       #append method adds the new value at the end of the list"
   ]
  },
  {
   "cell_type": "code",
   "execution_count": 91,
   "id": "5841b5d2",
   "metadata": {},
   "outputs": [
    {
     "name": "stdout",
     "output_type": "stream",
     "text": [
      "[3.14, 11, 'goodbye', 'goodbye', 'cat', True, 99, 'hello friends']\n"
     ]
    }
   ],
   "source": [
    "bacon.insert(2,'goodbye')\n",
    "print(bacon)    #insert method has the choice of index in the list to add."
   ]
  },
  {
   "cell_type": "markdown",
   "id": "12597541",
   "metadata": {},
   "source": [
    "# 11."
   ]
  },
  {
   "cell_type": "code",
   "execution_count": 92,
   "id": "4b560fbe",
   "metadata": {},
   "outputs": [
    {
     "name": "stdout",
     "output_type": "stream",
     "text": [
      "[3.14, 11, 'goodbye', 'cat', True, 99, 'hello friends']\n"
     ]
    }
   ],
   "source": [
    "bacon.remove('goodbye')   #remove method-removes the first occurences with respect to object value\n",
    "print(bacon)               "
   ]
  },
  {
   "cell_type": "code",
   "execution_count": 96,
   "id": "a93e4007",
   "metadata": {},
   "outputs": [
    {
     "name": "stdout",
     "output_type": "stream",
     "text": [
      "[3.14, 11, 'goodbye', 'cat', 99, 'hello friends']\n"
     ]
    }
   ],
   "source": [
    "bacon.pop(4) # returns the list and removes the value based on the index mentioned\n",
    "print(bacon)"
   ]
  },
  {
   "cell_type": "markdown",
   "id": "9f31e1aa",
   "metadata": {},
   "source": [
    "# 12."
   ]
  },
  {
   "cell_type": "code",
   "execution_count": 103,
   "id": "ebe0cb40",
   "metadata": {},
   "outputs": [
    {
     "name": "stdout",
     "output_type": "stream",
     "text": [
      "a\n",
      "b\n",
      "c\n",
      "d\n",
      "f\n",
      "3\n",
      "7\n",
      "7\n",
      "4\n",
      "b\n"
     ]
    }
   ],
   "source": [
    "a= ['a','b','c','d']\n",
    "p= 'f3774b'\n",
    "\n",
    "for i in a:\n",
    "    print(i)   \n",
    "    \n",
    "                            #list and string stores the data in sequence.\n",
    "for i in p:\n",
    "    print(i)"
   ]
  },
  {
   "cell_type": "markdown",
   "id": "0ec75684",
   "metadata": {},
   "source": [
    "# 13."
   ]
  },
  {
   "cell_type": "markdown",
   "id": "f49bb7a5",
   "metadata": {},
   "source": [
    "Lists and tuples are data storing structures.\n",
    "lists data is stored in [  ]. \n",
    "Tuples data is stored in (). \n",
    "Lists are mutable which means it can be changed whereas Tuples are immutable. \n",
    "That is the main reason why most of secured data in companies is in tuples format."
   ]
  },
  {
   "cell_type": "markdown",
   "id": "a4ee8e66",
   "metadata": {},
   "source": [
    "# 14.\n"
   ]
  },
  {
   "cell_type": "code",
   "execution_count": 125,
   "id": "c09a1673",
   "metadata": {},
   "outputs": [
    {
     "data": {
      "text/plain": [
       "int"
      ]
     },
     "execution_count": 125,
     "metadata": {},
     "output_type": "execute_result"
    }
   ],
   "source": [
    "a=(42)     #integer value alone makes it int data type rather than tuple\n",
    "type(a)\n"
   ]
  },
  {
   "cell_type": "code",
   "execution_count": 126,
   "id": "542b8261",
   "metadata": {},
   "outputs": [
    {
     "data": {
      "text/plain": [
       "tuple"
      ]
     },
     "execution_count": 126,
     "metadata": {},
     "output_type": "execute_result"
    }
   ],
   "source": [
    "\n",
    "b=(45,13)  # more than one int value is placed in () , which makes a tuple. \n",
    "type(b)"
   ]
  },
  {
   "cell_type": "code",
   "execution_count": 128,
   "id": "77e9eb17",
   "metadata": {},
   "outputs": [
    {
     "ename": "TypeError",
     "evalue": "'int' object is not iterable",
     "output_type": "error",
     "traceback": [
      "\u001b[1;31m---------------------------------------------------------------------------\u001b[0m",
      "\u001b[1;31mTypeError\u001b[0m                                 Traceback (most recent call last)",
      "\u001b[1;32m<ipython-input-128-61a38a6bb326>\u001b[0m in \u001b[0;36m<module>\u001b[1;34m\u001b[0m\n\u001b[1;32m----> 1\u001b[1;33m \u001b[0ma\u001b[0m\u001b[1;33m=\u001b[0m\u001b[0mtuple\u001b[0m\u001b[1;33m(\u001b[0m\u001b[0ma\u001b[0m\u001b[1;33m)\u001b[0m              \u001b[1;31m#typecasting isn't possible for int value to tuple\u001b[0m\u001b[1;33m\u001b[0m\u001b[1;33m\u001b[0m\u001b[0m\n\u001b[0m",
      "\u001b[1;31mTypeError\u001b[0m: 'int' object is not iterable"
     ]
    }
   ],
   "source": [
    "a=tuple(a)              #typecasting isn't possible for int value to tuple"
   ]
  },
  {
   "cell_type": "markdown",
   "id": "b6c1f875",
   "metadata": {},
   "source": [
    "# 15."
   ]
  },
  {
   "cell_type": "code",
   "execution_count": 134,
   "id": "fdc83126",
   "metadata": {},
   "outputs": [],
   "source": [
    "list_1=['a',2,56,27,'g']\n",
    "\n",
    "tuple_1=('f','t',5.3,66)\n",
    "\n",
    "list_1=tuple(list_1)                          #typecasted from list to tuple and tuple to list\n",
    "tuple_1=list(list_1)"
   ]
  },
  {
   "cell_type": "code",
   "execution_count": 135,
   "id": "08160699",
   "metadata": {},
   "outputs": [
    {
     "data": {
      "text/plain": [
       "('a', 2, 56, 27, 'g')"
      ]
     },
     "execution_count": 135,
     "metadata": {},
     "output_type": "execute_result"
    }
   ],
   "source": [
    "list_1 #list values in tuple form"
   ]
  },
  {
   "cell_type": "code",
   "execution_count": 136,
   "id": "0dd1cb71",
   "metadata": {},
   "outputs": [
    {
     "data": {
      "text/plain": [
       "['a', 2, 56, 27, 'g']"
      ]
     },
     "execution_count": 136,
     "metadata": {},
     "output_type": "execute_result"
    }
   ],
   "source": [
    "tuple_1 #tuple values in list form"
   ]
  },
  {
   "cell_type": "markdown",
   "id": "f9788b9a",
   "metadata": {},
   "source": [
    "# 16."
   ]
  },
  {
   "cell_type": "markdown",
   "id": "0471459b",
   "metadata": {},
   "source": [
    "'contain' variable can contain lists ,tuples ,dictionaries ,strings , integers ,boolean and none data types."
   ]
  },
  {
   "cell_type": "markdown",
   "id": "d3973219",
   "metadata": {},
   "source": [
    "# 17."
   ]
  },
  {
   "cell_type": "code",
   "execution_count": 144,
   "id": "06a14605",
   "metadata": {},
   "outputs": [
    {
     "data": {
      "text/plain": [
       "[]"
      ]
     },
     "execution_count": 144,
     "metadata": {},
     "output_type": "execute_result"
    }
   ],
   "source": [
    "\n",
    "copy=[]\n",
    "copy.copy()"
   ]
  },
  {
   "cell_type": "code",
   "execution_count": 145,
   "id": "e6ff1cb7",
   "metadata": {},
   "outputs": [
    {
     "ename": "AttributeError",
     "evalue": "'list' object has no attribute 'deepcopy'",
     "output_type": "error",
     "traceback": [
      "\u001b[1;31m---------------------------------------------------------------------------\u001b[0m",
      "\u001b[1;31mAttributeError\u001b[0m                            Traceback (most recent call last)",
      "\u001b[1;32m<ipython-input-145-e880084f74ca>\u001b[0m in \u001b[0;36m<module>\u001b[1;34m\u001b[0m\n\u001b[1;32m----> 1\u001b[1;33m \u001b[0mcopy\u001b[0m\u001b[1;33m.\u001b[0m\u001b[0mdeepcopy\u001b[0m\u001b[1;33m(\u001b[0m\u001b[1;33m)\u001b[0m\u001b[1;33m\u001b[0m\u001b[1;33m\u001b[0m\u001b[0m\n\u001b[0m",
      "\u001b[1;31mAttributeError\u001b[0m: 'list' object has no attribute 'deepcopy'"
     ]
    }
   ],
   "source": [
    "copy.deepcopy()"
   ]
  },
  {
   "cell_type": "code",
   "execution_count": null,
   "id": "76f6ff6c",
   "metadata": {},
   "outputs": [],
   "source": []
  }
 ],
 "metadata": {
  "kernelspec": {
   "display_name": "Python 3",
   "language": "python",
   "name": "python3"
  },
  "language_info": {
   "codemirror_mode": {
    "name": "ipython",
    "version": 3
   },
   "file_extension": ".py",
   "mimetype": "text/x-python",
   "name": "python",
   "nbconvert_exporter": "python",
   "pygments_lexer": "ipython3",
   "version": "3.8.8"
  }
 },
 "nbformat": 4,
 "nbformat_minor": 5
}
