{
 "cells": [
  {
   "cell_type": "markdown",
   "id": "30b419b5",
   "metadata": {},
   "source": [
    "# 1."
   ]
  },
  {
   "cell_type": "markdown",
   "id": "ab7731bd",
   "metadata": {},
   "source": [
    "A function breaks down the problem in appropriate procedural way and can be put in a program which has readability.\n",
    "\n",
    "It avoids us to write the same logic again and again. We can put the same logic under 'def' keyword.\n",
    "\n",
    "A function in a program is used to reuse the code which eventually reduces the time ,so it can be called multiple times with different inputs.\n"
   ]
  },
  {
   "cell_type": "markdown",
   "id": "4e072234",
   "metadata": {},
   "source": [
    "# 2."
   ]
  },
  {
   "cell_type": "markdown",
   "id": "6adc02cc",
   "metadata": {},
   "source": [
    "A code runs when function is called.\n",
    "After creating a function using def keyword, function is called. Below example gives better clarity."
   ]
  },
  {
   "cell_type": "markdown",
   "id": "2304a68e",
   "metadata": {},
   "source": [
    "# 3."
   ]
  },
  {
   "cell_type": "code",
   "execution_count": 15,
   "id": "e80b8058",
   "metadata": {},
   "outputs": [
    {
     "data": {
      "text/plain": [
       "10"
      ]
     },
     "execution_count": 15,
     "metadata": {},
     "output_type": "execute_result"
    }
   ],
   "source": [
    "#'def' keyword is used\n",
    "\n",
    "#example\n",
    "\n",
    "def function(a):\n",
    "    a=a+2\n",
    "    return a\n",
    "\n",
    "function(8)"
   ]
  },
  {
   "cell_type": "markdown",
   "id": "87b7df14",
   "metadata": {},
   "source": [
    "# 4."
   ]
  },
  {
   "cell_type": "markdown",
   "id": "8ffbfbaf",
   "metadata": {},
   "source": [
    "function- A function in a program is defined using 'def'.The logic of the program can be defined in a function.It is called using function call.\n",
    "\n",
    "function call- A predefined function should be called so it runs the code hidden in it. A function can be invoked mutliple times.\n"
   ]
  },
  {
   "cell_type": "markdown",
   "id": "0d9f6bb3",
   "metadata": {},
   "source": [
    "# 5."
   ]
  },
  {
   "cell_type": "markdown",
   "id": "01442b79",
   "metadata": {},
   "source": [
    "There is only one global scope in a program execution. Every global variable can be globally accessed across the program.\n",
    "\n",
    "A local variable scope is within its defined function only."
   ]
  },
  {
   "cell_type": "code",
   "execution_count": 26,
   "id": "9161b57a",
   "metadata": {},
   "outputs": [
    {
     "name": "stdout",
     "output_type": "stream",
     "text": [
      "15\n",
      "5.0\n"
     ]
    }
   ],
   "source": [
    "a=10\n",
    "def hi(a,b):\n",
    "    \n",
    "    return a+b                              \n",
    "\n",
    "\n",
    "def papa(a,b):\n",
    "    \n",
    "    return a/b\n",
    "\n",
    "print(hi(a,5))\n",
    "print(papa(a,2))"
   ]
  },
  {
   "cell_type": "markdown",
   "id": "4d27c9a5",
   "metadata": {},
   "source": [
    "# 6."
   ]
  },
  {
   "cell_type": "markdown",
   "id": "4e731d57",
   "metadata": {},
   "source": [
    "local variables are automatically destroyed after function call returns."
   ]
  },
  {
   "cell_type": "code",
   "execution_count": 38,
   "id": "40bdd581",
   "metadata": {},
   "outputs": [
    {
     "name": "stdout",
     "output_type": "stream",
     "text": [
      "16\n"
     ]
    }
   ],
   "source": [
    "def sq(x):\n",
    "    y=x*x\n",
    "    return y\n",
    "\n",
    "print(sq(4))\n"
   ]
  },
  {
   "cell_type": "code",
   "execution_count": 39,
   "id": "e4c53fe5",
   "metadata": {},
   "outputs": [
    {
     "ename": "NameError",
     "evalue": "name 'y' is not defined",
     "output_type": "error",
     "traceback": [
      "\u001b[1;31m---------------------------------------------------------------------------\u001b[0m",
      "\u001b[1;31mNameError\u001b[0m                                 Traceback (most recent call last)",
      "\u001b[1;32m<ipython-input-39-d9183e048de3>\u001b[0m in \u001b[0;36m<module>\u001b[1;34m\u001b[0m\n\u001b[1;32m----> 1\u001b[1;33m \u001b[0mprint\u001b[0m\u001b[1;33m(\u001b[0m\u001b[0my\u001b[0m\u001b[1;33m)\u001b[0m\u001b[1;33m\u001b[0m\u001b[1;33m\u001b[0m\u001b[0m\n\u001b[0m",
      "\u001b[1;31mNameError\u001b[0m: name 'y' is not defined"
     ]
    }
   ],
   "source": [
    "print(y)"
   ]
  },
  {
   "cell_type": "markdown",
   "id": "7669f380",
   "metadata": {},
   "source": [
    "# 7."
   ]
  },
  {
   "cell_type": "code",
   "execution_count": 42,
   "id": "f709fd4e",
   "metadata": {},
   "outputs": [
    {
     "data": {
      "text/plain": [
       "(36, 13, True)"
      ]
     },
     "execution_count": 42,
     "metadata": {},
     "output_type": "execute_result"
    }
   ],
   "source": [
    "def func(a,b):\n",
    "    return a*b,a+b, a >b\n",
    "\n",
    "                                  #It returns the values of expressions.\n",
    "func(9,4)"
   ]
  },
  {
   "cell_type": "markdown",
   "id": "de8d59dd",
   "metadata": {},
   "source": [
    "# 8."
   ]
  },
  {
   "cell_type": "markdown",
   "id": "24fbffa2",
   "metadata": {},
   "source": [
    "If a function doesn't have return statement, then it is doesn't return anything,we don't find any difference."
   ]
  },
  {
   "cell_type": "code",
   "execution_count": 17,
   "id": "8396c4e0",
   "metadata": {},
   "outputs": [],
   "source": [
    "\n",
    "def function(a):\n",
    "    a=a+2\n",
    "    #return a\n",
    "\n",
    "function(8)"
   ]
  },
  {
   "cell_type": "markdown",
   "id": "2ded841e",
   "metadata": {},
   "source": [
    "# 9."
   ]
  },
  {
   "cell_type": "markdown",
   "id": "a14b1542",
   "metadata": {},
   "source": [
    "\n",
    "Using 'global' keyword we can refer a variable to a global variable.\n",
    "\n"
   ]
  },
  {
   "cell_type": "code",
   "execution_count": 29,
   "id": "136a2a62",
   "metadata": {},
   "outputs": [
    {
     "name": "stdout",
     "output_type": "stream",
     "text": [
      "10\n"
     ]
    }
   ],
   "source": [
    "a=5\n",
    "def func():\n",
    "    global a  #it over writes the value of 'a'\n",
    "    a=10                      \n",
    "\n",
    "func()\n",
    "\n",
    "print(a)"
   ]
  },
  {
   "cell_type": "markdown",
   "id": "efada285",
   "metadata": {},
   "source": [
    "# 10."
   ]
  },
  {
   "cell_type": "code",
   "execution_count": 3,
   "id": "ffd6e9c6",
   "metadata": {},
   "outputs": [
    {
     "data": {
      "text/plain": [
       "NoneType"
      ]
     },
     "execution_count": 3,
     "metadata": {},
     "output_type": "execute_result"
    }
   ],
   "source": [
    "type(None) #Nonetype is a the data type of None"
   ]
  },
  {
   "cell_type": "markdown",
   "id": "ab92ad5b",
   "metadata": {},
   "source": [
    "# 11."
   ]
  },
  {
   "cell_type": "markdown",
   "id": "ca04e287",
   "metadata": {},
   "source": [
    "'import' keyword imports the modules in the python package.By the way there is no python module with the 'areallyourpetsnamederic' name."
   ]
  },
  {
   "cell_type": "code",
   "execution_count": 4,
   "id": "9ce99946",
   "metadata": {},
   "outputs": [
    {
     "ename": "ModuleNotFoundError",
     "evalue": "No module named 'areallyourpetsnamederic'",
     "output_type": "error",
     "traceback": [
      "\u001b[1;31m---------------------------------------------------------------------------\u001b[0m",
      "\u001b[1;31mModuleNotFoundError\u001b[0m                       Traceback (most recent call last)",
      "\u001b[1;32m<ipython-input-4-b1ea9cb2228f>\u001b[0m in \u001b[0;36m<module>\u001b[1;34m\u001b[0m\n\u001b[1;32m----> 1\u001b[1;33m \u001b[1;32mimport\u001b[0m \u001b[0mareallyourpetsnamederic\u001b[0m\u001b[1;33m\u001b[0m\u001b[1;33m\u001b[0m\u001b[0m\n\u001b[0m",
      "\u001b[1;31mModuleNotFoundError\u001b[0m: No module named 'areallyourpetsnamederic'"
     ]
    }
   ],
   "source": [
    "import areallyourpetsnamederic"
   ]
  },
  {
   "cell_type": "markdown",
   "id": "2e113faf",
   "metadata": {},
   "source": [
    "# 12."
   ]
  },
  {
   "cell_type": "markdown",
   "id": "2b29600a",
   "metadata": {},
   "source": [
    "import spam\n",
    "\n",
    "spam.bacon() #module followed by its function"
   ]
  },
  {
   "cell_type": "markdown",
   "id": "24f06036",
   "metadata": {},
   "source": [
    "# 13."
   ]
  },
  {
   "cell_type": "markdown",
   "id": "b6c3caf9",
   "metadata": {},
   "source": [
    "For any program, in order to avoid the program to be crashed we use 'pass' keyword"
   ]
  },
  {
   "cell_type": "code",
   "execution_count": 1,
   "id": "80e2473e",
   "metadata": {},
   "outputs": [],
   "source": [
    "def hello():\n",
    "    pass"
   ]
  },
  {
   "cell_type": "markdown",
   "id": "9480b051",
   "metadata": {},
   "source": [
    "# 14."
   ]
  },
  {
   "cell_type": "markdown",
   "id": "9d925901",
   "metadata": {},
   "source": [
    "The purpose of try clause is to checks if the code in it has errors or not. If errors are not there then try statement is executed, whereas except clause is executed when the previous mentioned code in try has errors.\n"
   ]
  }
 ],
 "metadata": {
  "kernelspec": {
   "display_name": "Python 3",
   "language": "python",
   "name": "python3"
  },
  "language_info": {
   "codemirror_mode": {
    "name": "ipython",
    "version": 3
   },
   "file_extension": ".py",
   "mimetype": "text/x-python",
   "name": "python",
   "nbconvert_exporter": "python",
   "pygments_lexer": "ipython3",
   "version": "3.8.8"
  }
 },
 "nbformat": 4,
 "nbformat_minor": 5
}
