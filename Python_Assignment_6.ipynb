{
 "cells": [
  {
   "cell_type": "markdown",
   "id": "573afd57",
   "metadata": {},
   "source": [
    "# 1."
   ]
  },
  {
   "cell_type": "markdown",
   "id": "83fc41a3",
   "metadata": {},
   "source": [
    "Escape character is a character which calls an alternative interpretation on subsequent characters in a character sequence .\n",
    "It is used in the strings and usage varies with the escape character."
   ]
  },
  {
   "cell_type": "code",
   "execution_count": 82,
   "id": "f79e8fb6",
   "metadata": {},
   "outputs": [
    {
     "name": "stdout",
     "output_type": "stream",
     "text": [
      "Ineuronn\b\n"
     ]
    }
   ],
   "source": [
    "#example1-\n",
    "\n",
    "print('Ineuronn\\b') #\\b-backspace escape character"
   ]
  },
  {
   "cell_type": "markdown",
   "id": "243a74ed",
   "metadata": {},
   "source": [
    "# 2. "
   ]
  },
  {
   "cell_type": "markdown",
   "id": "96fe5db3",
   "metadata": {},
   "source": [
    "\\t escape character means tab space horizontally\n",
    "\n",
    "\\n escape character means characters next to \\n will be printed in new line "
   ]
  },
  {
   "cell_type": "code",
   "execution_count": 83,
   "id": "03cc4b25",
   "metadata": {},
   "outputs": [
    {
     "name": "stdout",
     "output_type": "stream",
     "text": [
      "happy\tbirthday\n",
      "MS\tDHONI\n",
      "VIRAT\tKOHLI\n"
     ]
    }
   ],
   "source": [
    "#example1-\n",
    "print(\"happy\\tbirthday\") #\\t\n",
    "\n",
    "#example2-\n",
    "\n",
    "print(\"MS\\tDHONI\\nVIRAT\\tKOHLI\") #\\n\n"
   ]
  },
  {
   "cell_type": "markdown",
   "id": "83173bd0",
   "metadata": {},
   "source": [
    "# 3."
   ]
  },
  {
   "cell_type": "markdown",
   "id": "a07bf216",
   "metadata": {},
   "source": [
    "Only way to include backlash characters in a string is by using two backlash(\\\\) symbols."
   ]
  },
  {
   "cell_type": "code",
   "execution_count": 84,
   "id": "b4acdc2e",
   "metadata": {},
   "outputs": [
    {
     "name": "stdout",
     "output_type": "stream",
     "text": [
      "Mumbai Indians is the \\best team\n"
     ]
    }
   ],
   "source": [
    "print('Mumbai Indians is the \\\\best team')"
   ]
  },
  {
   "cell_type": "markdown",
   "id": "115918c3",
   "metadata": {},
   "source": [
    "# 4."
   ]
  },
  {
   "cell_type": "markdown",
   "id": "d986a37c",
   "metadata": {},
   "source": [
    "Since the string is interpreted in double quotes so it can escape,and if the string is in single quotes - \\' should be used to escape."
   ]
  },
  {
   "cell_type": "code",
   "execution_count": 85,
   "id": "dac21163",
   "metadata": {},
   "outputs": [
    {
     "name": "stdout",
     "output_type": "stream",
     "text": [
      "Howl's Moving Castle\n"
     ]
    }
   ],
   "source": [
    "print(\"Howl's Moving Castle\") "
   ]
  },
  {
   "cell_type": "code",
   "execution_count": 86,
   "id": "a65d1e42",
   "metadata": {},
   "outputs": [
    {
     "name": "stdout",
     "output_type": "stream",
     "text": [
      "Howl's Moving Castle\n"
     ]
    }
   ],
   "source": [
    "print('Howl\\'s Moving Castle')"
   ]
  },
  {
   "cell_type": "markdown",
   "id": "e32e2eee",
   "metadata": {},
   "source": [
    "# 5."
   ]
  },
  {
   "cell_type": "code",
   "execution_count": 87,
   "id": "edceb602",
   "metadata": {},
   "outputs": [
    {
     "name": "stdout",
     "output_type": "stream",
     "text": [
      "Hi Sachin\r\n",
      " Hi Dhoni\n"
     ]
    }
   ],
   "source": [
    "import os #by importing Operating System module we can print newlines and avoiding the use of \\n\n",
    "\n",
    "print('Hi Sachin'+os.linesep+' Hi Dhoni')\n"
   ]
  },
  {
   "cell_type": "markdown",
   "id": "88b63dac",
   "metadata": {},
   "source": [
    "# 6."
   ]
  },
  {
   "cell_type": "code",
   "execution_count": 4,
   "id": "45169f85",
   "metadata": {},
   "outputs": [
    {
     "data": {
      "text/plain": [
       "'e'"
      ]
     },
     "execution_count": 4,
     "metadata": {},
     "output_type": "execute_result"
    }
   ],
   "source": [
    "'Hello,world!'[1]"
   ]
  },
  {
   "cell_type": "code",
   "execution_count": 5,
   "id": "6ab8e8ee",
   "metadata": {},
   "outputs": [
    {
     "data": {
      "text/plain": [
       "'Hello'"
      ]
     },
     "execution_count": 5,
     "metadata": {},
     "output_type": "execute_result"
    }
   ],
   "source": [
    "'Hello,world!'[0:5]"
   ]
  },
  {
   "cell_type": "code",
   "execution_count": 6,
   "id": "56d2e3bd",
   "metadata": {},
   "outputs": [
    {
     "data": {
      "text/plain": [
       "'Hello'"
      ]
     },
     "execution_count": 6,
     "metadata": {},
     "output_type": "execute_result"
    }
   ],
   "source": [
    "'Hello,world!'[:5]"
   ]
  },
  {
   "cell_type": "code",
   "execution_count": 7,
   "id": "f0d3b5ea",
   "metadata": {},
   "outputs": [
    {
     "data": {
      "text/plain": [
       "'lo,world!'"
      ]
     },
     "execution_count": 7,
     "metadata": {},
     "output_type": "execute_result"
    }
   ],
   "source": [
    "'Hello,world!'[3:]"
   ]
  },
  {
   "cell_type": "markdown",
   "id": "5a3f4701",
   "metadata": {},
   "source": [
    "# 7."
   ]
  },
  {
   "cell_type": "code",
   "execution_count": 8,
   "id": "2d3c7eb9",
   "metadata": {},
   "outputs": [
    {
     "data": {
      "text/plain": [
       "'HELLO'"
      ]
     },
     "execution_count": 8,
     "metadata": {},
     "output_type": "execute_result"
    }
   ],
   "source": [
    "'Hello'.upper()"
   ]
  },
  {
   "cell_type": "code",
   "execution_count": 9,
   "id": "2020781b",
   "metadata": {},
   "outputs": [
    {
     "data": {
      "text/plain": [
       "True"
      ]
     },
     "execution_count": 9,
     "metadata": {},
     "output_type": "execute_result"
    }
   ],
   "source": [
    "'Hello'.upper().isupper()"
   ]
  },
  {
   "cell_type": "code",
   "execution_count": 10,
   "id": "f04957c8",
   "metadata": {},
   "outputs": [
    {
     "data": {
      "text/plain": [
       "'hello'"
      ]
     },
     "execution_count": 10,
     "metadata": {},
     "output_type": "execute_result"
    }
   ],
   "source": [
    "'Hello'.upper().lower()"
   ]
  },
  {
   "cell_type": "markdown",
   "id": "95045ed6",
   "metadata": {},
   "source": [
    "# 8."
   ]
  },
  {
   "cell_type": "code",
   "execution_count": 18,
   "id": "bd22d60b",
   "metadata": {},
   "outputs": [
    {
     "data": {
      "text/plain": [
       "['Remember,remember,the', 'fifth', 'of', 'July.']"
      ]
     },
     "execution_count": 18,
     "metadata": {},
     "output_type": "execute_result"
    }
   ],
   "source": [
    "'Remember,remember,the fifth of July.'.split() #divides with respect to spaces"
   ]
  },
  {
   "cell_type": "code",
   "execution_count": 20,
   "id": "6d4dbed3",
   "metadata": {},
   "outputs": [
    {
     "data": {
      "text/plain": [
       "'There-can-be-only-one.'"
      ]
     },
     "execution_count": 20,
     "metadata": {},
     "output_type": "execute_result"
    }
   ],
   "source": [
    "'-'.join('There can be only one.'.split())"
   ]
  },
  {
   "cell_type": "markdown",
   "id": "e98fef74",
   "metadata": {},
   "source": [
    "# 9."
   ]
  },
  {
   "cell_type": "code",
   "execution_count": 40,
   "id": "458870c4",
   "metadata": {},
   "outputs": [
    {
     "data": {
      "text/plain": [
       "'   fjksmmc'"
      ]
     },
     "execution_count": 40,
     "metadata": {},
     "output_type": "execute_result"
    }
   ],
   "source": [
    "a='fjksmmc'\n",
    "a.rjust(10) #places the string characters in the right and fill the rest with blank spaces,total length should 10."
   ]
  },
  {
   "cell_type": "code",
   "execution_count": 36,
   "id": "191141af",
   "metadata": {},
   "outputs": [
    {
     "data": {
      "text/plain": [
       "'fjksmmc     '"
      ]
     },
     "execution_count": 36,
     "metadata": {},
     "output_type": "execute_result"
    }
   ],
   "source": [
    "a.ljust(12) #places the string characters in the left and fill the rest with blank spaces,total length should 12."
   ]
  },
  {
   "cell_type": "code",
   "execution_count": 44,
   "id": "87ffe4a0",
   "metadata": {},
   "outputs": [
    {
     "data": {
      "text/plain": [
       "'    fjksmmc    '"
      ]
     },
     "execution_count": 44,
     "metadata": {},
     "output_type": "execute_result"
    }
   ],
   "source": [
    "a.center(15) \n",
    "\n",
    "#total length of string is specified so that places the blank spaces in the rest of the places \n",
    "# and at the center the preoccupied string characters is placed"
   ]
  },
  {
   "cell_type": "markdown",
   "id": "c1c07116",
   "metadata": {},
   "source": [
    "# 10."
   ]
  },
  {
   "cell_type": "code",
   "execution_count": 47,
   "id": "6bb85450",
   "metadata": {},
   "outputs": [
    {
     "data": {
      "text/plain": [
       "'jjkksjdn'"
      ]
     },
     "execution_count": 47,
     "metadata": {},
     "output_type": "execute_result"
    }
   ],
   "source": [
    "w='jjkksjdn  '\n",
    "\n",
    "w.rstrip() #rstrip function strips the white spaces in the right end of the string and returns string"
   ]
  },
  {
   "cell_type": "code",
   "execution_count": 49,
   "id": "3950f1d3",
   "metadata": {},
   "outputs": [
    {
     "data": {
      "text/plain": [
       "'dca'"
      ]
     },
     "execution_count": 49,
     "metadata": {},
     "output_type": "execute_result"
    }
   ],
   "source": [
    "e='   dca'\n",
    "e.lstrip() #lstrip function strips the white spaces in the left end of the string and returns string"
   ]
  }
 ],
 "metadata": {
  "kernelspec": {
   "display_name": "Python 3",
   "language": "python",
   "name": "python3"
  },
  "language_info": {
   "codemirror_mode": {
    "name": "ipython",
    "version": 3
   },
   "file_extension": ".py",
   "mimetype": "text/x-python",
   "name": "python",
   "nbconvert_exporter": "python",
   "pygments_lexer": "ipython3",
   "version": "3.8.8"
  }
 },
 "nbformat": 4,
 "nbformat_minor": 5
}
