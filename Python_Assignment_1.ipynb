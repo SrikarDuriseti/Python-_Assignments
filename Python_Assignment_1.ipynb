{
 "cells": [
  {
   "cell_type": "markdown",
   "id": "33c42872",
   "metadata": {},
   "source": [
    "# 1. \n",
    "\n",
    "    *      - Expression(Multiplication Mathematical Operator)\n",
    "     \n",
    "    'hello' - String \n",
    "   \n",
    "    -87.8   - Value (float value)\n",
    "   \n",
    "      -    - Expression (Subtraction Mathematical Operator)\n",
    "      \n",
    "      /    - Expression (Division Mathematical Operator)\n",
    "      \n",
    "      +    - Expression (Addition Mathematical Operator)\n",
    "      \n",
    "      6    - Value (Integer Value)\n"
   ]
  },
  {
   "cell_type": "markdown",
   "id": "170f53c6",
   "metadata": {},
   "source": [
    "# 2. \n",
    "\n",
    "String - String is a data type in Python programming language. Any Data that is in singular or double quotation marks   (' ' or \" \") is called a string.  \n",
    "\n",
    "Example- 'student' , '23' , 'mumbaidelhi23'\n",
    "\n",
    "Variable - Variable is to store the data, it is used to assign the value of all data types can be stored in a variable.\n",
    "Example- a= 4 , b ='python' "
   ]
  },
  {
   "cell_type": "markdown",
   "id": "a3b2a35e",
   "metadata": {},
   "source": [
    "# 3.\n",
    "\n",
    "a) Boolean - Data type with True or False. \n",
    "b) Integer - Numeric value implies integer data type. Example- 1, -50 , 2 .\n",
    "c) String  - Anything in quotation marks is a string data type . Example - 'github' , 'ss4' ."
   ]
  },
  {
   "cell_type": "markdown",
   "id": "35e840fb",
   "metadata": {},
   "source": [
    "# 4. \n",
    "\n",
    "Expressions are made up of operators and interpreted by compiler to produce a value. All expressions are subjected to perform its respective mathematical operations."
   ]
  },
  {
   "cell_type": "code",
   "execution_count": 1,
   "id": "b313334a",
   "metadata": {},
   "outputs": [
    {
     "data": {
      "text/plain": [
       "2"
      ]
     },
     "execution_count": 1,
     "metadata": {},
     "output_type": "execute_result"
    }
   ],
   "source": [
    "#example1-subtraction\n",
    "4-2"
   ]
  },
  {
   "cell_type": "code",
   "execution_count": 2,
   "id": "9bfa7c08",
   "metadata": {},
   "outputs": [
    {
     "data": {
      "text/plain": [
       "24"
      ]
     },
     "execution_count": 2,
     "metadata": {},
     "output_type": "execute_result"
    }
   ],
   "source": [
    "#example 2-multiplication\n",
    "4*6"
   ]
  },
  {
   "cell_type": "code",
   "execution_count": 3,
   "id": "3ef3b9e8",
   "metadata": {},
   "outputs": [
    {
     "data": {
      "text/plain": [
       "'Hello Jupyter'"
      ]
     },
     "execution_count": 3,
     "metadata": {},
     "output_type": "execute_result"
    }
   ],
   "source": [
    "#example3- using strings\n",
    "'Hello'+' Jupyter'"
   ]
  },
  {
   "cell_type": "markdown",
   "id": "c1d585ac",
   "metadata": {},
   "source": [
    "# 5.\n",
    "spam=10 . Here the integer value 10 is assigned to spam variable, this is an assignment statement.\n",
    "\n",
    "Expressions consists of operators like '+,-,*,/'.\n"
   ]
  },
  {
   "cell_type": "markdown",
   "id": "7a55bf8a",
   "metadata": {},
   "source": [
    "# 6. "
   ]
  },
  {
   "cell_type": "code",
   "execution_count": 5,
   "id": "783c8a47",
   "metadata": {},
   "outputs": [
    {
     "data": {
      "text/plain": [
       "23"
      ]
     },
     "execution_count": 5,
     "metadata": {},
     "output_type": "execute_result"
    }
   ],
   "source": [
    "\n",
    "bacon=22\n",
    "bacon+1            #bacon variable value is added to 1, now bacon is 23."
   ]
  },
  {
   "cell_type": "markdown",
   "id": "172715f0",
   "metadata": {},
   "source": [
    "# 7."
   ]
  },
  {
   "cell_type": "code",
   "execution_count": 6,
   "id": "bed89813",
   "metadata": {},
   "outputs": [
    {
     "data": {
      "text/plain": [
       "'spamspamspam'"
      ]
     },
     "execution_count": 6,
     "metadata": {},
     "output_type": "execute_result"
    }
   ],
   "source": [
    "\n",
    "'spam'+'spamspam'\n"
   ]
  },
  {
   "cell_type": "code",
   "execution_count": 7,
   "id": "b52ba434",
   "metadata": {},
   "outputs": [
    {
     "data": {
      "text/plain": [
       "'spamspamspam'"
      ]
     },
     "execution_count": 7,
     "metadata": {},
     "output_type": "execute_result"
    }
   ],
   "source": [
    "'spam'*3"
   ]
  },
  {
   "cell_type": "markdown",
   "id": "f3c23ed2",
   "metadata": {},
   "source": [
    "Both produced the same string."
   ]
  },
  {
   "cell_type": "markdown",
   "id": "28ae47f3",
   "metadata": {},
   "source": [
    "# 8.\n",
    "Rules of Variable in python\n",
    "a) A variable should start with a letter.\n",
    "b) A variable cannot start with a number because it is invalid syntax.\n",
    "\n",
    "From this we can say that , eggs is a valid variable and 100 cannot be a valid variable. "
   ]
  },
  {
   "cell_type": "markdown",
   "id": "a2402fe6",
   "metadata": {},
   "source": [
    "# 9."
   ]
  },
  {
   "cell_type": "code",
   "execution_count": 8,
   "id": "4f11bc13",
   "metadata": {},
   "outputs": [
    {
     "data": {
      "text/plain": [
       "5"
      ]
     },
     "execution_count": 8,
     "metadata": {},
     "output_type": "execute_result"
    }
   ],
   "source": [
    "\n",
    "a='5' #string given\n",
    "a = int(a) #type casting from string to integer\n",
    "a"
   ]
  },
  {
   "cell_type": "code",
   "execution_count": 9,
   "id": "9adce69b",
   "metadata": {},
   "outputs": [
    {
     "data": {
      "text/plain": [
       "5.0"
      ]
     },
     "execution_count": 9,
     "metadata": {},
     "output_type": "execute_result"
    }
   ],
   "source": [
    "b = float(a)  #typecasting from string to float value\n",
    "b"
   ]
  },
  {
   "cell_type": "code",
   "execution_count": 10,
   "id": "90b86b1b",
   "metadata": {},
   "outputs": [
    {
     "data": {
      "text/plain": [
       "'5'"
      ]
     },
     "execution_count": 10,
     "metadata": {},
     "output_type": "execute_result"
    }
   ],
   "source": [
    "x=5\n",
    "x=str(x) #type casting from integer to string\n",
    "x"
   ]
  },
  {
   "cell_type": "markdown",
   "id": "c5e09cb9",
   "metadata": {},
   "source": [
    "# 10."
   ]
  },
  {
   "cell_type": "code",
   "execution_count": 11,
   "id": "d9441254",
   "metadata": {},
   "outputs": [
    {
     "data": {
      "text/plain": [
       "'I have eaten 99 burritos.'"
      ]
     },
     "execution_count": 11,
     "metadata": {},
     "output_type": "execute_result"
    }
   ],
   "source": [
    "\n",
    "'I have eaten '+str(99)+' burritos.' #99 is a integer ,in order to print this, type cast from int to str. Then, 99 is a part of the new string."
   ]
  },
  {
   "cell_type": "code",
   "execution_count": null,
   "id": "0a98655e",
   "metadata": {},
   "outputs": [],
   "source": []
  }
 ],
 "metadata": {
  "kernelspec": {
   "display_name": "Python 3",
   "language": "python",
   "name": "python3"
  },
  "language_info": {
   "codemirror_mode": {
    "name": "ipython",
    "version": 3
   },
   "file_extension": ".py",
   "mimetype": "text/x-python",
   "name": "python",
   "nbconvert_exporter": "python",
   "pygments_lexer": "ipython3",
   "version": "3.8.8"
  }
 },
 "nbformat": 4,
 "nbformat_minor": 5
}
