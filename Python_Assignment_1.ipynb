{
 "cells": [
  {
   "cell_type": "raw",
   "id": "fef862ef",
   "metadata": {},
   "source": [
    "1.   *     - Expression(Multiplication Mathematical Operator)\n",
    "   'hello' - String \n",
    "   -87.8   - Value (float value)\n",
    "      -    - Expression (Subtraction Mathematical Operator)\n",
    "      /    - Expression (Division Mathematical Operator)\n",
    "      +    - Expression (Addition Mathematical Operator)\n",
    "      6    - Value (Integer Value)"
   ]
  },
  {
   "cell_type": "raw",
   "id": "cb531363",
   "metadata": {},
   "source": [
    "2. \n",
    "String - String is a data type in Python programming language. Any Data that is in singular or double quotation marks   (' ' or \" \") is called a string.  \n",
    "\n",
    "Example- 'student' , '23' , 'mumbaidelhi23'\n",
    "\n",
    "Variable - Variable is to store the data, it is used to assign the value of all data types can be stored in a variable.\n",
    "Example- a= 4 , b ='python' "
   ]
  },
  {
   "cell_type": "raw",
   "id": "3c5d75df",
   "metadata": {},
   "source": [
    "3.\n",
    "\n",
    "a) Boolean - Data type with True or False. \n",
    "b) Integer - Numeric value implies integer data type. Example- 1, -50 , 2 .\n",
    "c) String  - Anything in quotation marks is a string data type . Example - 'github' , 'ss4' ."
   ]
  },
  {
   "cell_type": "raw",
   "id": "c7665400",
   "metadata": {},
   "source": [
    "4. Expressions are made up of operators and interpreted by compiler to produce a value.\n",
    "   All expressions are subjected to perform its respective mathematical operations."
   ]
  },
  {
   "cell_type": "code",
   "execution_count": 18,
   "id": "203e5aab",
   "metadata": {},
   "outputs": [
    {
     "data": {
      "text/plain": [
       "2"
      ]
     },
     "execution_count": 18,
     "metadata": {},
     "output_type": "execute_result"
    }
   ],
   "source": [
    "#example1-subtraction\n",
    "4-2"
   ]
  },
  {
   "cell_type": "code",
   "execution_count": 17,
   "id": "d0deea0f",
   "metadata": {},
   "outputs": [
    {
     "data": {
      "text/plain": [
       "24"
      ]
     },
     "execution_count": 17,
     "metadata": {},
     "output_type": "execute_result"
    }
   ],
   "source": [
    "#example 2-multiplication\n",
    "4*6"
   ]
  },
  {
   "cell_type": "code",
   "execution_count": 20,
   "id": "15b922a9",
   "metadata": {},
   "outputs": [
    {
     "data": {
      "text/plain": [
       "'Hello Jupyter'"
      ]
     },
     "execution_count": 20,
     "metadata": {},
     "output_type": "execute_result"
    }
   ],
   "source": [
    "#example3- using strings\n",
    "'Hello'+' Jupyter'"
   ]
  },
  {
   "cell_type": "raw",
   "id": "7dd69843",
   "metadata": {},
   "source": [
    "5.spam=10 . Here the integer value 10 is assigned to spam variable, this is an assignment statement.\n",
    "\n",
    "Expressions consists of operators like '+,-,*,/'.\n"
   ]
  },
  {
   "cell_type": "code",
   "execution_count": 27,
   "id": "b78b76bd",
   "metadata": {},
   "outputs": [
    {
     "data": {
      "text/plain": [
       "23"
      ]
     },
     "execution_count": 27,
     "metadata": {},
     "output_type": "execute_result"
    }
   ],
   "source": [
    "#6. \n",
    "bacon=22\n",
    "bacon+1            #bacon variable value is added to 1, now bacon is 23."
   ]
  },
  {
   "cell_type": "code",
   "execution_count": 24,
   "id": "3355825d",
   "metadata": {},
   "outputs": [
    {
     "data": {
      "text/plain": [
       "'spamspamspam'"
      ]
     },
     "execution_count": 24,
     "metadata": {},
     "output_type": "execute_result"
    }
   ],
   "source": [
    "#7.\n",
    "'spam'+'spamspam'\n"
   ]
  },
  {
   "cell_type": "code",
   "execution_count": 25,
   "id": "101df2cc",
   "metadata": {},
   "outputs": [
    {
     "data": {
      "text/plain": [
       "'spamspamspam'"
      ]
     },
     "execution_count": 25,
     "metadata": {},
     "output_type": "execute_result"
    }
   ],
   "source": [
    "'spam'*3"
   ]
  },
  {
   "cell_type": "raw",
   "id": "d86e4827",
   "metadata": {},
   "source": [
    "Both produced the same string."
   ]
  },
  {
   "cell_type": "raw",
   "id": "22a85aaf",
   "metadata": {},
   "source": [
    "8. Rules of Variable in python\n",
    "a) A variable should start with a letter.\n",
    "b) A variable cannot start with a number because it is invalid syntax.\n",
    "\n",
    "From this we can say that , eggs is a valid variable and 100 cannot be a valid variable. "
   ]
  },
  {
   "cell_type": "code",
   "execution_count": 38,
   "id": "bcacf4b3",
   "metadata": {},
   "outputs": [
    {
     "data": {
      "text/plain": [
       "5"
      ]
     },
     "execution_count": 38,
     "metadata": {},
     "output_type": "execute_result"
    }
   ],
   "source": [
    "#9.\n",
    "a='5' #string given\n",
    "a = int(a) #type casting from string to integer\n",
    "a"
   ]
  },
  {
   "cell_type": "code",
   "execution_count": 41,
   "id": "008f8d85",
   "metadata": {},
   "outputs": [
    {
     "data": {
      "text/plain": [
       "5.0"
      ]
     },
     "execution_count": 41,
     "metadata": {},
     "output_type": "execute_result"
    }
   ],
   "source": [
    "b = float(a)  #typecasting from string to float value\n",
    "b"
   ]
  },
  {
   "cell_type": "code",
   "execution_count": 42,
   "id": "28446e39",
   "metadata": {},
   "outputs": [
    {
     "data": {
      "text/plain": [
       "'5'"
      ]
     },
     "execution_count": 42,
     "metadata": {},
     "output_type": "execute_result"
    }
   ],
   "source": [
    "x=5\n",
    "x=str(x) #type casting from integer to string\n",
    "x"
   ]
  },
  {
   "cell_type": "code",
   "execution_count": 46,
   "id": "90cade76",
   "metadata": {},
   "outputs": [
    {
     "data": {
      "text/plain": [
       "'I have eaten 99 burritos.'"
      ]
     },
     "execution_count": 46,
     "metadata": {},
     "output_type": "execute_result"
    }
   ],
   "source": [
    "#10.\n",
    "'I have eaten '+str(99)+' burritos.' #99 is a integer ,in order to print this, type cast from int to str. Then, 99 is a part of the new string."
   ]
  },
  {
   "cell_type": "code",
   "execution_count": null,
   "id": "a2824f5a",
   "metadata": {},
   "outputs": [],
   "source": []
  }
 ],
 "metadata": {
  "kernelspec": {
   "display_name": "Python 3",
   "language": "python",
   "name": "python3"
  },
  "language_info": {
   "codemirror_mode": {
    "name": "ipython",
    "version": 3
   },
   "file_extension": ".py",
   "mimetype": "text/x-python",
   "name": "python",
   "nbconvert_exporter": "python",
   "pygments_lexer": "ipython3",
   "version": "3.8.8"
  }
 },
 "nbformat": 4,
 "nbformat_minor": 5
}
